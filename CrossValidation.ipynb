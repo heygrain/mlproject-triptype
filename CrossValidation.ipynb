{
 "cells": [
  {
   "cell_type": "markdown",
   "metadata": {},
   "source": [
    "## Cross Validation Notebook (5-fold)"
   ]
  },
  {
   "cell_type": "code",
   "execution_count": 1,
   "metadata": {
    "collapsed": true
   },
   "outputs": [],
   "source": [
    "import numpy as np\n",
    "import pandas as pd\n",
    "import scipy as sp\n",
    "import xgboost as xgb\n",
    "from sklearn.metrics import log_loss\n",
    "from datetime import datetime\n",
    "\n",
    "path = './droped/'\n",
    "train_X = sp.sparse.load_npz(path + 'train_X.npz')\n",
    "train_y = np.load(path + 'train_y.npy')\n",
    "train_VN = np.load(path + 'train_VN.npy')\n",
    "\n",
    "y = pd.get_dummies(train_y).values.argmax(1)\n",
    "Y = pd.get_dummies(y).values\n",
    "N = train_X.shape[0]\n",
    "\n",
    "folds = [range(0, N, 5), range(1, N, 5), range(2, N, 5), range(3, N, 5), range(4, N, 5)]\n",
    "\n",
    "xgb_params1 = {'objective':'multi:softprob', 'num_class':38, 'silent':1, 'nthread':8, \n",
    "               'eta':.2, 'max_depth':4, 'colsample_bytree':.4, 'subsample':.8}\n",
    "xgb_params2 = {'objective':'multi:softprob', 'num_class':38, 'silent':1, 'nthread':8, \n",
    "               'eta':.2, 'max_depth':5, 'colsample_bytree':.4, 'subsample':.8}\n",
    "xgb_params3 = {'objective':'multi:softprob', 'num_class':38, 'silent':1, 'nthread':8, \n",
    "               'eta':.2, 'max_depth':6, 'colsample_bytree':.4, 'subsample':.8}\n",
    "\n",
    "param_set = [xgb_params1, xgb_params2, xgb_params3]"
   ]
  },
  {
   "cell_type": "code",
   "execution_count": 3,
   "metadata": {},
   "outputs": [
    {
     "name": "stdout",
     "output_type": "stream",
     "text": [
      "parameters:\n",
      "num_round:  550\n",
      "{'objective': 'multi:softprob', 'num_class': 38, 'silent': 1, 'nthread': 8, 'eta': 0.2, 'max_depth': 4, 'colsample_bytree': 0.4, 'subsample': 0.8}\n",
      "=====================================================\n",
      "TimeCoasted\tFoldID\tTrainLoss\tTestLoss\n",
      "0:11:41.561865 \t 1 \t 0.386294136533 \t 0.729644137182\n",
      "2:59:05.966973 \t 2 \t 0.382477621102 \t 0.758050325296\n",
      "0:12:03.572832 \t 3 \t 0.384749327804 \t 0.743945207172\n",
      "0:12:03.311927 \t 4 \t 0.384746858891 \t 0.737547000401\n",
      "0:12:16.652014 \t 5 \t 0.385206666678 \t 0.732994624936\n",
      "=====================================================\n",
      "avg_train_loss: 0.384694922202 avg_test_loss 0.740436258997\n",
      "\n",
      "parameters:\n",
      "num_round:  550\n",
      "{'objective': 'multi:softprob', 'num_class': 38, 'silent': 1, 'nthread': 8, 'eta': 0.2, 'max_depth': 5, 'colsample_bytree': 0.4, 'subsample': 0.8}\n",
      "=====================================================\n",
      "TimeCoasted\tFoldID\tTrainLoss\tTestLoss\n",
      "0:12:24.644318 \t 1 \t 0.311275958829 \t 0.731842049873\n",
      "0:12:27.850278 \t 2 \t 0.308231581901 \t 0.7634495167\n",
      "0:12:56.622314 \t 3 \t 0.309783040152 \t 0.747483478299\n",
      "0:12:56.972930 \t 4 \t 0.309171415092 \t 0.738415813053\n",
      "0:13:08.126570 \t 5 \t 0.310440546469 \t 0.731806389715\n",
      "=====================================================\n",
      "avg_train_loss: 0.309780508489 avg_test_loss 0.742599449528\n",
      "\n",
      "parameters:\n",
      "num_round:  550\n",
      "{'objective': 'multi:softprob', 'num_class': 38, 'silent': 1, 'nthread': 8, 'eta': 0.2, 'max_depth': 6, 'colsample_bytree': 0.4, 'subsample': 0.8}\n",
      "=====================================================\n",
      "TimeCoasted\tFoldID\tTrainLoss\tTestLoss\n",
      "0:13:44.001454 \t 1 \t 0.253530075209 \t 0.735224057273\n",
      "0:13:17.837595 \t 2 \t 0.250754821182 \t 0.773054811402\n",
      "0:13:39.170775 \t 3 \t 0.253169173872 \t 0.75690904164\n",
      "0:13:26.097819 \t 4 \t 0.25224049815 \t 0.746394619593\n",
      "0:13:29.092547 \t 5 \t 0.254067047007 \t 0.738346161295\n",
      "=====================================================\n",
      "avg_train_loss: 0.252752323084 avg_test_loss 0.749985738241\n",
      "\n",
      "parameters:\n",
      "num_round:  620\n",
      "{'objective': 'multi:softprob', 'num_class': 38, 'silent': 1, 'nthread': 8, 'eta': 0.2, 'max_depth': 4, 'colsample_bytree': 0.4, 'subsample': 0.8}\n",
      "=====================================================\n",
      "TimeCoasted\tFoldID\tTrainLoss\tTestLoss\n",
      "0:13:30.189800 \t 1 \t 0.364480931148 \t 0.72891605257\n",
      "0:13:13.408873 \t 2 \t 0.360626784169 \t 0.757679887743\n",
      "0:13:09.274496 \t 3 \t 0.36276889835 \t 0.743093618101\n",
      "0:13:05.185723 \t 4 \t 0.362740524209 \t 0.736688348261\n",
      "0:13:15.978637 \t 5 \t 0.363413250295 \t 0.731686603453\n",
      "=====================================================\n",
      "avg_train_loss: 0.362806077634 avg_test_loss 0.739612902025\n",
      "\n",
      "parameters:\n",
      "num_round:  620\n",
      "{'objective': 'multi:softprob', 'num_class': 38, 'silent': 1, 'nthread': 8, 'eta': 0.2, 'max_depth': 5, 'colsample_bytree': 0.4, 'subsample': 0.8}\n",
      "=====================================================\n",
      "TimeCoasted\tFoldID\tTrainLoss\tTestLoss\n",
      "0:13:48.207912 \t 1 \t 0.290107499777 \t 0.732938035428\n",
      "0:14:53.976604 \t 2 \t 0.287559986953 \t 0.766083353113\n",
      "0:15:00.465863 \t 3 \t 0.288852572695 \t 0.74937878476\n",
      "0:13:45.297622 \t 4 \t 0.28804808551 \t 0.740235207126\n",
      "0:13:45.954516 \t 5 \t 0.28943850395 \t 0.73269706256\n",
      "=====================================================\n",
      "avg_train_loss: 0.288801329777 avg_test_loss 0.744266488597\n",
      "\n",
      "parameters:\n",
      "num_round:  620\n",
      "{'objective': 'multi:softprob', 'num_class': 38, 'silent': 1, 'nthread': 8, 'eta': 0.2, 'max_depth': 6, 'colsample_bytree': 0.4, 'subsample': 0.8}\n",
      "=====================================================\n",
      "TimeCoasted\tFoldID\tTrainLoss\tTestLoss\n",
      "0:14:39.832077 \t 1 \t 0.23440155533 \t 0.740019754121\n",
      "0:14:28.836825 \t 2 \t 0.231925210293 \t 0.778130432557\n",
      "0:14:32.340338 \t 3 \t 0.233945440089 \t 0.762061124493\n",
      "0:14:55.789041 \t 4 \t 0.233115318626 \t 0.749970090988\n",
      "0:14:42.554290 \t 5 \t 0.234636903784 \t 0.742526663707\n",
      "=====================================================\n",
      "avg_train_loss: 0.233604885624 avg_test_loss 0.754541613173\n",
      "\n"
     ]
    }
   ],
   "source": [
    "for num_round in [550, 620]:\n",
    "    for xgb_params in param_set:\n",
    "        print('parameters:')\n",
    "        print('num_round: ', num_round)\n",
    "        print(xgb_params)\n",
    "        print('=====================================================')\n",
    "        print('TimeCoasted\\tFoldID\\tTrainLoss\\tTestLoss')\n",
    "        trl = []\n",
    "        tel = []\n",
    "        for idx, fold in enumerate(folds):\n",
    "            other = list(set(range(N))-set(fold))\n",
    "            trX = train_X[other]\n",
    "            teX = train_X[fold]\n",
    "            trY = Y[other]\n",
    "            teY = Y[fold]\n",
    "            tr_y = y[other]\n",
    "            \n",
    "            dtrain = xgb.DMatrix(trX, label = tr_y)\n",
    "            dtest = xgb.DMatrix(teX)\n",
    "            \n",
    "            t0 = datetime.now()\n",
    "            bst = xgb.train(xgb_params, dtrain, num_round)\n",
    "            train_pr = bst.predict(dtrain)\n",
    "            test_pr = bst.predict(dtest)\n",
    "            train_loss = log_loss(trY, train_pr)\n",
    "            test_loss = log_loss(teY, test_pr)\n",
    "            t1 = datetime.now() - t0\n",
    "            trl.append(train_loss)\n",
    "            tel.append(test_loss)\n",
    "            print(t1, '\\t', idx + 1, '\\t', train_loss, '\\t', test_loss)\n",
    "        avg_train_loss = np.average(trl)\n",
    "        avg_test_loss = np.average(tel)\n",
    "        print('=====================================================')\n",
    "        print('avg_train_loss:', avg_train_loss, 'avg_test_loss', avg_test_loss)\n",
    "        print()"
   ]
  },
  {
   "cell_type": "code",
   "execution_count": null,
   "metadata": {
    "scrolled": false
   },
   "outputs": [
    {
     "name": "stdout",
     "output_type": "stream",
     "text": [
      "parameters:\n",
      "num_round:  450\n",
      "{'objective': 'multi:softprob', 'num_class': 38, 'silent': 1, 'nthread': 8, 'eta': 0.2, 'max_depth': 3, 'colsample_bytree': 0.6, 'subsample': 0.6}\n",
      "=====================================================\n",
      "TimeCoasted\tFoldID\tTrainLoss\tTestLoss\n",
      "0:10:00.977395 \t 1 \t 0.503120361077 \t 0.748613466161\n",
      "0:09:40.993214 \t 2 \t 0.497726135494 \t 0.771132326996\n",
      "0:09:36.409729 \t 3 \t 0.499944305039 \t 0.756931938884\n",
      "0:09:47.693735 \t 4 \t 0.501188679568 \t 0.753284717365\n",
      "0:09:36.312864 \t 5 \t 0.502843612739 \t 0.750226894341\n",
      "=====================================================\n",
      "avg_train_loss: 0.500964618783 avg_test_loss 0.756037868749\n",
      "\n",
      "parameters:\n",
      "num_round:  450\n",
      "{'objective': 'multi:softprob', 'num_class': 38, 'silent': 1, 'nthread': 8, 'eta': 0.2, 'max_depth': 4, 'colsample_bytree': 0.6, 'subsample': 0.6}\n",
      "=====================================================\n",
      "TimeCoasted\tFoldID\tTrainLoss\tTestLoss\n",
      "0:10:19.994678 \t 1 \t 0.40482167653 \t 0.739558955369\n",
      "0:10:15.699597 \t 2 \t 0.400560771166 \t 0.763645227697\n",
      "0:10:26.792064 \t 3 \t 0.40356771532 \t 0.749989794214\n",
      "0:11:09.541810 \t 4 \t 0.403247624538 \t 0.744121575913\n",
      "0:10:17.475731 \t 5 \t 0.404181122246 \t 0.737630063605\n",
      "=====================================================\n",
      "avg_train_loss: 0.40327578196 avg_test_loss 0.74698912336\n",
      "\n",
      "parameters:\n",
      "num_round:  450\n",
      "{'objective': 'multi:softprob', 'num_class': 38, 'silent': 1, 'nthread': 8, 'eta': 0.2, 'max_depth': 5, 'colsample_bytree': 0.6, 'subsample': 0.6}\n",
      "=====================================================\n",
      "TimeCoasted\tFoldID\tTrainLoss\tTestLoss\n",
      "0:10:56.693810 \t 1 \t 0.328868054873 \t 0.741173924196\n",
      "0:11:03.386316 \t 2 \t 0.326058348304 \t 0.769633314524\n",
      "0:10:55.586895 \t 3 \t 0.328223480079 \t 0.752130607664\n",
      "0:10:58.420327 \t 4 \t 0.327598419074 \t 0.747087218832\n",
      "0:10:57.106461 \t 5 \t 0.329373585239 \t 0.737424104376\n",
      "=====================================================\n",
      "avg_train_loss: 0.328024377514 avg_test_loss 0.749489833918\n",
      "\n",
      "parameters:\n",
      "num_round:  500\n",
      "{'objective': 'multi:softprob', 'num_class': 38, 'silent': 1, 'nthread': 8, 'eta': 0.2, 'max_depth': 3, 'colsample_bytree': 0.6, 'subsample': 0.6}\n",
      "=====================================================\n",
      "TimeCoasted\tFoldID\tTrainLoss\tTestLoss\n",
      "0:10:44.315076 \t 1 \t 0.483644056819 \t 0.745922332344\n",
      "0:10:38.356895 \t 2 \t 0.477853763538 \t 0.768027248951\n",
      "0:10:56.735374 \t 3 \t 0.480369198237 \t 0.754186971495\n",
      "0:10:39.448135 \t 4 \t 0.481824125548 \t 0.748625790582\n",
      "0:10:43.859595 \t 5 \t 0.483406467873 \t 0.746601744349\n",
      "=====================================================\n",
      "avg_train_loss: 0.481419522403 avg_test_loss 0.752672817544\n",
      "\n",
      "parameters:\n",
      "num_round:  500\n",
      "{'objective': 'multi:softprob', 'num_class': 38, 'silent': 1, 'nthread': 8, 'eta': 0.2, 'max_depth': 4, 'colsample_bytree': 0.6, 'subsample': 0.6}\n",
      "=====================================================\n",
      "TimeCoasted\tFoldID\tTrainLoss\tTestLoss\n",
      "0:11:26.699150 \t 1 \t 0.384713661523 \t 0.738928222444\n",
      "0:11:26.872911 \t 2 \t 0.380325921302 \t 0.763431460869\n",
      "0:11:25.007285 \t 3 \t 0.383470715404 \t 0.748145152869\n",
      "0:11:26.331613 \t 4 \t 0.38330278972 \t 0.742617289097\n",
      "0:11:26.707680 \t 5 \t 0.384126940332 \t 0.736267888673\n",
      "=====================================================\n",
      "avg_train_loss: 0.383188005656 avg_test_loss 0.74587800279\n",
      "\n",
      "parameters:\n",
      "num_round:  500\n",
      "{'objective': 'multi:softprob', 'num_class': 38, 'silent': 1, 'nthread': 8, 'eta': 0.2, 'max_depth': 5, 'colsample_bytree': 0.6, 'subsample': 0.6}\n",
      "=====================================================\n",
      "TimeCoasted\tFoldID\tTrainLoss\tTestLoss\n",
      "0:12:22.920665 \t 1 \t 0.309143441078 \t 0.742367068648\n",
      "0:12:09.458798 \t 2 \t 0.306494009687 \t 0.771504012213\n",
      "0:12:15.953230 \t 3 \t 0.308403838245 \t 0.752674592878\n",
      "0:12:07.700286 \t 4 \t 0.308192831018 \t 0.747728526995\n",
      "0:12:14.137360 \t 5 \t 0.30989422157 \t 0.738293437625\n",
      "=====================================================\n",
      "avg_train_loss: 0.30842566832 avg_test_loss 0.750513527672\n",
      "\n",
      "parameters:\n",
      "num_round:  550\n",
      "{'objective': 'multi:softprob', 'num_class': 38, 'silent': 1, 'nthread': 8, 'eta': 0.2, 'max_depth': 3, 'colsample_bytree': 0.6, 'subsample': 0.6}\n",
      "=====================================================\n",
      "TimeCoasted\tFoldID\tTrainLoss\tTestLoss\n",
      "0:11:46.023289 \t 1 \t 0.465282483863 \t 0.744191977905\n",
      "0:11:52.060821 \t 2 \t 0.46019076865 \t 0.766115463147\n",
      "0:11:52.797207 \t 3 \t 0.46241661531 \t 0.751632873719\n"
     ]
    }
   ],
   "source": [
    "xgb_params1 = {'objective':'multi:softprob', 'num_class':38, 'silent':1, 'nthread':8, \n",
    "               'eta':.2, 'max_depth':3, 'colsample_bytree':.6, 'subsample':.6}\n",
    "xgb_params2 = {'objective':'multi:softprob', 'num_class':38, 'silent':1, 'nthread':8, \n",
    "               'eta':.2, 'max_depth':4, 'colsample_bytree':.6, 'subsample':.6}\n",
    "xgb_params3 = {'objective':'multi:softprob', 'num_class':38, 'silent':1, 'nthread':8, \n",
    "               'eta':.2, 'max_depth':5, 'colsample_bytree':.6, 'subsample':.6}\n",
    "\n",
    "param_set = [xgb_params1, xgb_params2, xgb_params3]\n",
    "\n",
    "for num_round in [450, 500, 550]:\n",
    "    for xgb_params in param_set:\n",
    "        print('parameters:')\n",
    "        print('num_round: ', num_round)\n",
    "        print(xgb_params)\n",
    "        print('=====================================================')\n",
    "        print('TimeCoasted\\tFoldID\\tTrainLoss\\tTestLoss')\n",
    "        trl = []\n",
    "        tel = []\n",
    "        for idx, fold in enumerate(folds):\n",
    "            other = list(set(range(N))-set(fold))\n",
    "            trX = train_X[other]\n",
    "            teX = train_X[fold]\n",
    "            trY = Y[other]\n",
    "            teY = Y[fold]\n",
    "            tr_y = y[other]\n",
    "            \n",
    "            dtrain = xgb.DMatrix(trX, label = tr_y)\n",
    "            dtest = xgb.DMatrix(teX)\n",
    "            \n",
    "            t0 = datetime.now()\n",
    "            bst = xgb.train(xgb_params, dtrain, num_round)\n",
    "            train_pr = bst.predict(dtrain)\n",
    "            test_pr = bst.predict(dtest)\n",
    "            train_loss = log_loss(trY, train_pr)\n",
    "            test_loss = log_loss(teY, test_pr)\n",
    "            t1 = datetime.now() - t0\n",
    "            trl.append(train_loss)\n",
    "            tel.append(test_loss)\n",
    "            print(t1, '\\t', idx + 1, '\\t', train_loss, '\\t', test_loss)\n",
    "        avg_train_loss = np.average(trl)\n",
    "        avg_test_loss = np.average(tel)\n",
    "        print('=====================================================')\n",
    "        print('avg_train_loss:', avg_train_loss, 'avg_test_loss', avg_test_loss)\n",
    "        print()"
   ]
  },
  {
   "cell_type": "code",
   "execution_count": 2,
   "metadata": {},
   "outputs": [
    {
     "name": "stdout",
     "output_type": "stream",
     "text": [
      "parameters:\n",
      "num_round:  550\n",
      "{'objective': 'multi:softprob', 'num_class': 38, 'silent': 1, 'nthread': 8, 'eta': 0.2, 'max_depth': 3, 'colsample_bytree': 0.6, 'subsample': 0.7}\n",
      "=====================================================\n",
      "TimeCoasted\tFoldID\tTrainLoss\tTestLoss\n",
      "0:11:54.434998 \t 1 \t 0.465748052355 \t 0.73738557129\n",
      "0:11:53.288737 \t 2 \t 0.46008459825 \t 0.766910952022\n",
      "0:12:06.540454 \t 3 \t 0.463328477122 \t 0.748525012505\n",
      "0:11:45.267444 \t 4 \t 0.463768759285 \t 0.740887970309\n",
      "0:11:51.070201 \t 5 \t 0.465212525987 \t 0.740803442247\n",
      "=====================================================\n",
      "avg_train_loss: 0.4636284826 avg_test_loss 0.746902589675\n",
      "\n",
      "parameters:\n",
      "num_round:  550\n",
      "{'objective': 'multi:softprob', 'num_class': 38, 'silent': 1, 'nthread': 8, 'eta': 0.2, 'max_depth': 4, 'colsample_bytree': 0.6, 'subsample': 0.7}\n",
      "=====================================================\n",
      "TimeCoasted\tFoldID\tTrainLoss\tTestLoss\n",
      "0:12:55.476881 \t 1 \t 0.364366453973 \t 0.732805522931\n",
      "0:12:45.460389 \t 2 \t 0.36168540294 \t 0.763383289605\n",
      "0:12:52.565940 \t 3 \t 0.363119514461 \t 0.743627495521\n",
      "0:12:47.312209 \t 4 \t 0.363392295067 \t 0.736880907919\n",
      "0:12:36.468783 \t 5 \t 0.364324606777 \t 0.732280704553\n",
      "=====================================================\n",
      "avg_train_loss: 0.363377654644 avg_test_loss 0.741795584106\n",
      "\n",
      "parameters:\n",
      "num_round:  550\n",
      "{'objective': 'multi:softprob', 'num_class': 38, 'silent': 1, 'nthread': 8, 'eta': 0.2, 'max_depth': 5, 'colsample_bytree': 0.6, 'subsample': 0.7}\n",
      "=====================================================\n",
      "TimeCoasted\tFoldID\tTrainLoss\tTestLoss\n",
      "0:14:02.785256 \t 1 \t 0.288037683052 \t 0.736323114046\n",
      "0:13:38.150247 \t 2 \t 0.285556267951 \t 0.770206252103\n",
      "0:13:34.972971 \t 3 \t 0.287232336886 \t 0.748518717634\n",
      "0:13:40.130638 \t 4 \t 0.28781403665 \t 0.743339739959\n",
      "0:13:36.768101 \t 5 \t 0.288809916512 \t 0.737106323366\n",
      "=====================================================\n",
      "avg_train_loss: 0.28749004821 avg_test_loss 0.747098829422\n",
      "\n",
      "parameters:\n",
      "num_round:  600\n",
      "{'objective': 'multi:softprob', 'num_class': 38, 'silent': 1, 'nthread': 8, 'eta': 0.2, 'max_depth': 3, 'colsample_bytree': 0.6, 'subsample': 0.7}\n",
      "=====================================================\n",
      "TimeCoasted\tFoldID\tTrainLoss\tTestLoss\n",
      "0:13:09.024888 \t 1 \t 0.449409202415 \t 0.735156443756\n",
      "0:13:00.730402 \t 2 \t 0.443645446036 \t 0.764561388051\n",
      "0:13:10.447159 \t 3 \t 0.446758501815 \t 0.746271286974\n",
      "0:13:10.309640 \t 4 \t 0.447559542458 \t 0.73903038713\n",
      "0:13:01.052630 \t 5 \t 0.448890431871 \t 0.738257695407\n",
      "=====================================================\n",
      "avg_train_loss: 0.447252624919 avg_test_loss 0.744655440264\n",
      "\n",
      "parameters:\n",
      "num_round:  600\n",
      "{'objective': 'multi:softprob', 'num_class': 38, 'silent': 1, 'nthread': 8, 'eta': 0.2, 'max_depth': 4, 'colsample_bytree': 0.6, 'subsample': 0.7}\n",
      "=====================================================\n",
      "TimeCoasted\tFoldID\tTrainLoss\tTestLoss\n",
      "0:14:08.247220 \t 1 \t 0.34794468224 \t 0.732733280026\n",
      "0:14:01.139789 \t 2 \t 0.345247751526 \t 0.763574983452\n",
      "0:14:14.439009 \t 3 \t 0.346804348505 \t 0.743501274494\n",
      "0:14:06.988105 \t 4 \t 0.347041407349 \t 0.737147622824\n",
      "0:14:10.030729 \t 5 \t 0.347708307687 \t 0.733002348141\n",
      "=====================================================\n",
      "avg_train_loss: 0.346949299461 avg_test_loss 0.741991901788\n",
      "\n",
      "parameters:\n",
      "num_round:  600\n",
      "{'objective': 'multi:softprob', 'num_class': 38, 'silent': 1, 'nthread': 8, 'eta': 0.2, 'max_depth': 5, 'colsample_bytree': 0.6, 'subsample': 0.7}\n",
      "=====================================================\n",
      "TimeCoasted\tFoldID\tTrainLoss\tTestLoss\n",
      "0:14:57.726192 \t 1 \t 0.272734238136 \t 0.738208776326\n",
      "0:14:57.572805 \t 2 \t 0.270158959995 \t 0.772247154568\n",
      "0:14:52.375935 \t 3 \t 0.27203609715 \t 0.751567851541\n",
      "0:15:06.571125 \t 4 \t 0.272347831623 \t 0.746164773963\n",
      "0:15:05.001000 \t 5 \t 0.273378210072 \t 0.738892673228\n",
      "=====================================================\n",
      "avg_train_loss: 0.272131067395 avg_test_loss 0.749416245925\n",
      "\n"
     ]
    }
   ],
   "source": [
    "xgb_params1 = {'objective':'multi:softprob', 'num_class':38, 'silent':1, 'nthread':8, \n",
    "               'eta':.2, 'max_depth':3, 'colsample_bytree':.6, 'subsample':.7}\n",
    "xgb_params2 = {'objective':'multi:softprob', 'num_class':38, 'silent':1, 'nthread':8, \n",
    "               'eta':.2, 'max_depth':4, 'colsample_bytree':.6, 'subsample':.7}\n",
    "xgb_params3 = {'objective':'multi:softprob', 'num_class':38, 'silent':1, 'nthread':8, \n",
    "               'eta':.2, 'max_depth':5, 'colsample_bytree':.6, 'subsample':.7}\n",
    "\n",
    "param_set = [xgb_params1, xgb_params2, xgb_params3]\n",
    "\n",
    "for num_round in [550, 600]:\n",
    "    for xgb_params in param_set:\n",
    "        print('parameters:')\n",
    "        print('num_round: ', num_round)\n",
    "        print(xgb_params)\n",
    "        print('=====================================================')\n",
    "        print('TimeCoasted\\tFoldID\\tTrainLoss\\tTestLoss')\n",
    "        trl = []\n",
    "        tel = []\n",
    "        for idx, fold in enumerate(folds):\n",
    "            other = list(set(range(N))-set(fold))\n",
    "            trX = train_X[other]\n",
    "            teX = train_X[fold]\n",
    "            trY = Y[other]\n",
    "            teY = Y[fold]\n",
    "            tr_y = y[other]\n",
    "            \n",
    "            dtrain = xgb.DMatrix(trX, label = tr_y)\n",
    "            dtest = xgb.DMatrix(teX)\n",
    "            \n",
    "            t0 = datetime.now()\n",
    "            bst = xgb.train(xgb_params, dtrain, num_round)\n",
    "            train_pr = bst.predict(dtrain)\n",
    "            test_pr = bst.predict(dtest)\n",
    "            train_loss = log_loss(trY, train_pr)\n",
    "            test_loss = log_loss(teY, test_pr)\n",
    "            t1 = datetime.now() - t0\n",
    "            trl.append(train_loss)\n",
    "            tel.append(test_loss)\n",
    "            print(t1, '\\t', idx + 1, '\\t', train_loss, '\\t', test_loss)\n",
    "        avg_train_loss = np.average(trl)\n",
    "        avg_test_loss = np.average(tel)\n",
    "        print('=====================================================')\n",
    "        print('avg_train_loss:', avg_train_loss, 'avg_test_loss', avg_test_loss)\n",
    "        print()"
   ]
  },
  {
   "cell_type": "code",
   "execution_count": 4,
   "metadata": {},
   "outputs": [
    {
     "name": "stdout",
     "output_type": "stream",
     "text": [
      "parameters:\n",
      "num_round:  550\n",
      "{'objective': 'multi:softprob', 'num_class': 38, 'silent': 1, 'nthread': 8, 'eta': 0.2, 'max_depth': 5, 'colsample_bytree': 0.4, 'subsample': 0.7, 'lambda': 3}\n",
      "=====================================================\n",
      "TimeCoasted\tFoldID\tTrainLoss\tTestLoss\n",
      "0:12:36.254786 \t 1 \t 0.354108401809 \t 0.729344662158\n",
      "0:12:42.618563 \t 2 \t 0.350359382272 \t 0.758707592574\n",
      "0:13:03.659774 \t 3 \t 0.352825198568 \t 0.741517690744\n",
      "0:12:58.228613 \t 4 \t 0.351435550162 \t 0.736127758564\n",
      "0:12:56.736466 \t 5 \t 0.353347175061 \t 0.729809408253\n",
      "=====================================================\n",
      "avg_train_loss: 0.352415141574 avg_test_loss 0.739101422459\n",
      "\n",
      "parameters:\n",
      "num_round:  550\n",
      "{'objective': 'multi:softprob', 'num_class': 38, 'silent': 1, 'nthread': 8, 'eta': 0.2, 'max_depth': 5, 'colsample_bytree': 0.4, 'subsample': 0.7, 'lambda': 5}\n",
      "=====================================================\n",
      "TimeCoasted\tFoldID\tTrainLoss\tTestLoss\n",
      "0:12:28.307340 \t 1 \t 0.378992733417 \t 0.727304054083\n",
      "0:12:44.908916 \t 2 \t 0.375247624405 \t 0.755403368495\n",
      "0:13:23.739662 \t 3 \t 0.377440486569 \t 0.740326340336\n",
      "0:13:11.847113 \t 4 \t 0.3770364084 \t 0.735742906489\n",
      "0:13:06.947398 \t 5 \t 0.378048451669 \t 0.725254003143\n",
      "=====================================================\n",
      "avg_train_loss: 0.377353140892 avg_test_loss 0.736806134509\n",
      "\n"
     ]
    }
   ],
   "source": [
    "xgb_params2 = {'objective':'multi:softprob', 'num_class':38, 'silent':1, 'nthread':8, \n",
    "               'eta':.2, 'max_depth':5, 'colsample_bytree':.4, 'subsample':.7, 'lambda':3}\n",
    "xgb_params3 = {'objective':'multi:softprob', 'num_class':38, 'silent':1, 'nthread':8, \n",
    "               'eta':.2, 'max_depth':5, 'colsample_bytree':.4, 'subsample':.7, 'lambda':5}\n",
    "\n",
    "param_set = [xgb_params2, xgb_params3]\n",
    "\n",
    "for num_round in [550]:\n",
    "    for xgb_params in param_set:\n",
    "        print('parameters:')\n",
    "        print('num_round: ', num_round)\n",
    "        print(xgb_params)\n",
    "        print('=====================================================')\n",
    "        print('TimeCoasted\\tFoldID\\tTrainLoss\\tTestLoss')\n",
    "        trl = []\n",
    "        tel = []\n",
    "        for idx, fold in enumerate(folds):\n",
    "            other = list(set(range(N))-set(fold))\n",
    "            trX = train_X[other]\n",
    "            teX = train_X[fold]\n",
    "            trY = Y[other]\n",
    "            teY = Y[fold]\n",
    "            tr_y = y[other]\n",
    "            \n",
    "            dtrain = xgb.DMatrix(trX, label = tr_y)\n",
    "            dtest = xgb.DMatrix(teX)\n",
    "            \n",
    "            t0 = datetime.now()\n",
    "            bst = xgb.train(xgb_params, dtrain, num_round)\n",
    "            train_pr = bst.predict(dtrain)\n",
    "            test_pr = bst.predict(dtest)\n",
    "            train_loss = log_loss(trY, train_pr)\n",
    "            test_loss = log_loss(teY, test_pr)\n",
    "            t1 = datetime.now() - t0\n",
    "            trl.append(train_loss)\n",
    "            tel.append(test_loss)\n",
    "            print(t1, '\\t', idx + 1, '\\t', train_loss, '\\t', test_loss)\n",
    "        avg_train_loss = np.average(trl)\n",
    "        avg_test_loss = np.average(tel)\n",
    "        print('=====================================================')\n",
    "        print('avg_train_loss:', avg_train_loss, 'avg_test_loss', avg_test_loss)\n",
    "        print()"
   ]
  },
  {
   "cell_type": "code",
   "execution_count": 6,
   "metadata": {},
   "outputs": [
    {
     "name": "stdout",
     "output_type": "stream",
     "text": [
      "parameters:\n",
      "num_round:  550\n",
      "{'objective': 'multi:softprob', 'num_class': 38, 'silent': 1, 'nthread': 8, 'eta': 0.2, 'max_depth': 5, 'colsample_bytree': 0.4, 'subsample': 0.7, 'lambda': 12}\n",
      "=====================================================\n",
      "TimeCoasted\tFoldID\tTrainLoss\tTestLoss\n",
      "0:13:01.246020 \t 1 \t 0.428539649079 \t 0.727134673443\n",
      "0:12:26.079859 \t 2 \t 0.424748313654 \t 0.75412392842\n",
      "0:12:34.844475 \t 3 \t 0.427658225927 \t 0.741940967264\n",
      "0:12:32.028722 \t 4 \t 0.426978464789 \t 0.734518646472\n",
      "0:12:23.958663 \t 5 \t 0.429190718371 \t 0.729073791679\n",
      "=====================================================\n",
      "avg_train_loss: 0.427423074364 avg_test_loss 0.737358401456\n",
      "\n"
     ]
    }
   ],
   "source": [
    "xgb_params3 = {'objective':'multi:softprob', 'num_class':38, 'silent':1, 'nthread':8, \n",
    "               'eta':.2, 'max_depth':5, 'colsample_bytree':.4, 'subsample':.7, 'lambda':12}\n",
    "\n",
    "param_set = [xgb_params3]\n",
    "\n",
    "for num_round in [550]:\n",
    "    for xgb_params in param_set:\n",
    "        print('parameters:')\n",
    "        print('num_round: ', num_round)\n",
    "        print(xgb_params)\n",
    "        print('=====================================================')\n",
    "        print('TimeCoasted\\tFoldID\\tTrainLoss\\tTestLoss')\n",
    "        trl = []\n",
    "        tel = []\n",
    "        for idx, fold in enumerate(folds):\n",
    "            other = list(set(range(N))-set(fold))\n",
    "            trX = train_X[other]\n",
    "            teX = train_X[fold]\n",
    "            trY = Y[other]\n",
    "            teY = Y[fold]\n",
    "            tr_y = y[other]\n",
    "            \n",
    "            dtrain = xgb.DMatrix(trX, label = tr_y)\n",
    "            dtest = xgb.DMatrix(teX)\n",
    "            \n",
    "            t0 = datetime.now()\n",
    "            bst = xgb.train(xgb_params, dtrain, num_round)\n",
    "            train_pr = bst.predict(dtrain)\n",
    "            test_pr = bst.predict(dtest)\n",
    "            train_loss = log_loss(trY, train_pr)\n",
    "            test_loss = log_loss(teY, test_pr)\n",
    "            t1 = datetime.now() - t0\n",
    "            trl.append(train_loss)\n",
    "            tel.append(test_loss)\n",
    "            print(t1, '\\t', idx + 1, '\\t', train_loss, '\\t', test_loss)\n",
    "        avg_train_loss = np.average(trl)\n",
    "        avg_test_loss = np.average(tel)\n",
    "        print('=====================================================')\n",
    "        print('avg_train_loss:', avg_train_loss, 'avg_test_loss', avg_test_loss)\n",
    "        print()"
   ]
  },
  {
   "cell_type": "markdown",
   "metadata": {},
   "source": [
    "### CV Result"
   ]
  },
  {
   "cell_type": "code",
   "execution_count": 19,
   "metadata": {
    "collapsed": true
   },
   "outputs": [],
   "source": [
    "import numpy as np\n",
    "import pandas as pd\n",
    "import matplotlib.pyplot as plt\n",
    "plt.rcParams['figure.figsize'] = (5.0*1.5, 4.0*1.5) # set default size of plots\n",
    "#import seaborn as sns\n",
    "\n",
    "cv = pd.read_csv('./experimental results/cross validation/crossvalidation.csv')"
   ]
  },
  {
   "cell_type": "code",
   "execution_count": 11,
   "metadata": {
    "scrolled": false
   },
   "outputs": [
    {
     "data": {
      "text/plain": [
       "array([18, 19, 20], dtype=int64)"
      ]
     },
     "execution_count": 11,
     "metadata": {},
     "output_type": "execute_result"
    }
   ],
   "source": [
    "np.array(test.index)"
   ]
  },
  {
   "cell_type": "code",
   "execution_count": 23,
   "metadata": {},
   "outputs": [
    {
     "data": {
      "image/png": "[encoded data removed]",
      "text/plain": [
       "<matplotlib.figure.Figure at 0x229390eeda0>"
      ]
     },
     "metadata": {},
     "output_type": "display_data"
    }
   ],
   "source": [
    "hparam = 'lambda'\n",
    "\n",
    "for idx in test.index:\n",
    "    p = test.loc[idx][hparam]\n",
    "    losses = test.loc[idx][['testloss1','testloss2','testloss3','testloss4','testloss5']].values\n",
    "    plt.scatter([p] * len(losses), losses)\n",
    "\n",
    "losses_mean = test['test_avg'].values\n",
    "losses_std = np.std(test[['testloss1','testloss2','testloss3','testloss4','testloss5']],axis=1).values\n",
    "plt.errorbar(test[hparam], losses_mean, yerr=losses_std)\n",
    "plt.title('Cross-validation on $\\mathtt{lambda}$')\n",
    "plt.xlabel(r'$\\mathtt{lambda}$')\n",
    "plt.ylabel('Loss on validation set')\n",
    "plt.grid(True, linestyle = \"-.\")  \n",
    "plt.plt.savefig('cv_lambda.eps')\n",
    "plt.show()"
   ]
  },
  {
   "cell_type": "code",
   "execution_count": 27,
   "metadata": {},
   "outputs": [
    {
     "data": {
      "image/png": "[encoded data removed]",
      "text/plain": [
       "<matplotlib.figure.Figure at 0x229393a4780>"
      ]
     },
     "metadata": {},
     "output_type": "display_data"
    }
   ],
   "source": [
    "for idx in cv.index:\n",
    "    losses = cv.loc[idx][['testloss1','testloss2','testloss3','testloss4','testloss5']].values\n",
    "    plt.scatter([idx+1] * len(losses), losses)\n",
    "\n",
    "losses_mean = cv['test_avg'].values\n",
    "losses_std = np.std(cv[['testloss1','testloss2','testloss3','testloss4','testloss5']],axis=1).values\n",
    "plt.errorbar(np.array(cv.index)+1, losses_mean, yerr=losses_std)\n",
    "plt.title('Cross-validation on hyper-parameters')\n",
    "plt.xlabel('Hyper-parameter set ID (listed in Table 3)')\n",
    "plt.ylabel('Loss on validation set')\n",
    "plt.xticks(np.arange(1,22))\n",
    "plt.grid(True, linestyle = \"-.\")  \n",
    "plt.savefig('./experimental results/cross validation/cv.eps')\n",
    "plt.show()"
   ]
  },
  {
   "cell_type": "code",
   "execution_count": 43,
   "metadata": {},
   "outputs": [
    {
     "data": {
      "text/plain": [
       "18    0.739101\n",
       "19    0.736806\n",
       "20    0.737358\n",
       "dtype: float64"
      ]
     },
     "execution_count": 43,
     "metadata": {},
     "output_type": "execute_result"
    }
   ],
   "source": [
    "np.mean(test[['testloss1','testloss2','testloss3','testloss4','testloss5']], axis=1)"
   ]
  },
  {
   "cell_type": "markdown",
   "metadata": {
    "collapsed": true
   },
   "source": [
    "### Other Experiments"
   ]
  },
  {
   "cell_type": "code",
   "execution_count": null,
   "metadata": {
    "collapsed": true
   },
   "outputs": [],
   "source": [
    "# param['tree_method'] = 'gpu_hist'"
   ]
  },
  {
   "cell_type": "code",
   "execution_count": 23,
   "metadata": {},
   "outputs": [
    {
     "data": {
      "text/plain": [
       "SVC(C=1.0, cache_size=200, class_weight=None, coef0=0.0,\n",
       "  decision_function_shape='ovr', degree=3, gamma='auto', kernel='rbf',\n",
       "  max_iter=-1, probability=False, random_state=None, shrinking=True,\n",
       "  tol=0.001, verbose=False)"
      ]
     },
     "execution_count": 23,
     "metadata": {},
     "output_type": "execute_result"
    }
   ],
   "source": [
    "from sklearn import svm\n",
    "X = np.array(trainFeature[minifeature])\n",
    "y = np.array(trainFeature['TripType'])\n",
    "classifier = svm.SVC()\n",
    "classifier.fit(X, y)"
   ]
  },
  {
   "cell_type": "code",
   "execution_count": null,
   "metadata": {
    "collapsed": true
   },
   "outputs": [],
   "source": [
    "result = classifier.predict(X)\n",
    "predicted_y = print(result)"
   ]
  },
  {
   "cell_type": "code",
   "execution_count": null,
   "metadata": {
    "collapsed": true
   },
   "outputs": [],
   "source": []
  }
 ],
 "metadata": {
  "kernelspec": {
   "display_name": "Python 3",
   "language": "python",
   "name": "python3"
  },
  "language_info": {
   "codemirror_mode": {
    "name": "ipython",
    "version": 3
   },
   "file_extension": ".py",
   "mimetype": "text/x-python",
   "name": "python",
   "nbconvert_exporter": "python",
   "pygments_lexer": "ipython3",
   "version": "3.6.3"
  }
 },
 "nbformat": 4,
 "nbformat_minor": 2
}

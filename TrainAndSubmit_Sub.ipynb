{
 "cells": [
  {
   "cell_type": "markdown",
   "metadata": {},
   "source": [
    "## Train and Submit (Using another computer)"
   ]
  },
  {
   "cell_type": "code",
   "execution_count": 1,
   "metadata": {
    "collapsed": true
   },
   "outputs": [],
   "source": [
    "import numpy as np\n",
    "import pandas as pd\n",
    "import scipy as sp\n",
    "import xgboost as xgb\n",
    "from sklearn.metrics import log_loss\n",
    "from datetime import datetime"
   ]
  },
  {
   "cell_type": "markdown",
   "metadata": {},
   "source": [
    "### Load Data"
   ]
  },
  {
   "cell_type": "code",
   "execution_count": 2,
   "metadata": {
    "collapsed": true
   },
   "outputs": [],
   "source": [
    "path = './droped/'\n",
    "\n",
    "train_X = sp.sparse.load_npz(path + 'train_X.npz')\n",
    "test_X = sp.sparse.load_npz(path + 'test_X.npz')\n",
    "    \n",
    "train_y = np.load(path + 'train_y.npy')\n",
    "    \n",
    "train_VN = np.load(path + 'train_VN.npy')\n",
    "test_VN = np.load(path + 'test_VN.npy')"
   ]
  },
  {
   "cell_type": "markdown",
   "metadata": {},
   "source": [
    "### Preparation"
   ]
  },
  {
   "cell_type": "code",
   "execution_count": 4,
   "metadata": {
    "collapsed": true
   },
   "outputs": [],
   "source": [
    "y = pd.get_dummies(train_y).values.argmax(1)\n",
    "N = train_X.shape[0]\n",
    "\n",
    "num_round = 550\n",
    "xgb_params = {'objective':'multi:softprob', 'num_class':38,\n",
    "              'eta':.2, 'max_depth':5, 'colsample_bytree':.4, 'subsample':.7, 'lambda': 5, \n",
    "              'silent':1}\n",
    "\n",
    "dtrain = xgb.DMatrix(train_X, label = y)\n",
    "dtest = xgb.DMatrix(test_X)\n",
    "\n",
    "nModels = 20"
   ]
  },
  {
   "cell_type": "code",
   "execution_count": 5,
   "metadata": {
    "collapsed": true
   },
   "outputs": [],
   "source": [
    "# np.save('D:/id' + str(0) + '.npy', np.array([0,0,0]))"
   ]
  },
  {
   "cell_type": "markdown",
   "metadata": {},
   "source": [
    "### Training and Ensembling"
   ]
  },
  {
   "cell_type": "code",
   "execution_count": 6,
   "metadata": {},
   "outputs": [
    {
     "name": "stdout",
     "output_type": "stream",
     "text": [
      "Training Time\tTrLoss\tTrLoss_Avg\n",
      "0:20:47.842203 \t 0.397623186535 \t 0.39762319351\n",
      "0:20:21.332338 \t 0.397950371359 \t 0.395741392924\n",
      "0:20:11.885828 \t 0.39719846512 \t 0.394698363597\n",
      "0:20:16.239720 \t 0.397820199493 \t 0.39442775907\n",
      "0:20:09.829959 \t 0.397107566228 \t 0.394065758414\n",
      "0:20:20.011718 \t 0.397283718518 \t 0.393873628313\n",
      "0:20:11.381488 \t 0.3979832295 \t 0.393830559476\n",
      "0:20:14.703368 \t 0.39825500002 \t 0.39386203738\n",
      "0:20:08.974889 \t 0.397724720987 \t 0.39382433659\n",
      "0:20:18.878964 \t 0.396578646633 \t 0.393683164883\n",
      "0:20:09.309613 \t 0.397009273026 \t 0.393607643307\n",
      "0:22:17.513251 \t 0.397805882042 \t 0.393590728397\n",
      "0:20:29.376931 \t 0.397595129021 \t 0.393547496087\n",
      "0:20:26.428478 \t 0.397209123043 \t 0.393496156018\n",
      "0:20:36.343566 \t 0.396940869417 \t 0.393443164134\n",
      "0:20:30.540712 \t 0.396650156455 \t 0.393362912949\n",
      "0:20:31.255680 \t 0.397073483134 \t 0.393330483343\n",
      "0:20:18.151477 \t 0.397495412416 \t 0.393316751544\n",
      "0:20:09.479227 \t 0.397332492842 \t 0.393299372382\n",
      "0:20:32.658611 \t 0.398158458655 \t 0.393328665701\n"
     ]
    }
   ],
   "source": [
    "sum_test_pr = np.zeros((N, 38))\n",
    "sum_train_pr = np.zeros((N, 38))\n",
    "\n",
    "print('Training Time\\tTrLoss\\tTrLoss_Avg')\n",
    "for j in range(nModels):\n",
    "    t0 = datetime.now()\n",
    "    xgb_params['seed'] = 10202*j + 50604\n",
    "    bst = xgb.train(xgb_params, dtrain, num_round)\n",
    "    test_pr = bst.predict(dtest)\n",
    "    train_pr = bst.predict(dtrain)\n",
    "    sum_test_pr += test_pr\n",
    "    sum_train_pr += train_pr\n",
    "    print(datetime.now() - t0, '\\t', log_loss(y, train_pr), '\\t', log_loss(y, sum_train_pr / (j+1)))\n",
    "    np.save('D:/id' + str(j) + '.npy', sum_test_pr)\n",
    "\n",
    "avg_test_pr = sum_test_pr / nModels\n",
    "col_list = ['TripType_' + str(lb) for lb in np.unique(train_y)]\n",
    "result = pd.DataFrame(avg_test_pr, columns=col_list, index=test_VN)\n",
    "result.index.name = 'VisitNumber'\n",
    "result.to_csv('submission_ensembled.csv', columns=result.columns)"
   ]
  },
  {
   "cell_type": "code",
   "execution_count": null,
   "metadata": {
    "collapsed": true
   },
   "outputs": [],
   "source": []
  }
 ],
 "metadata": {
  "kernelspec": {
   "display_name": "Python 3",
   "language": "python",
   "name": "python3"
  },
  "language_info": {
   "codemirror_mode": {
    "name": "ipython",
    "version": 3
   },
   "file_extension": ".py",
   "mimetype": "text/x-python",
   "name": "python",
   "nbconvert_exporter": "python",
   "pygments_lexer": "ipython3",
   "version": "3.6.3"
  }
 },
 "nbformat": 4,
 "nbformat_minor": 2
}

{
 "cells": [
  {
   "cell_type": "markdown",
   "metadata": {},
   "source": [
    "## Train and Submit"
   ]
  },
  {
   "cell_type": "code",
   "execution_count": 1,
   "metadata": {
    "collapsed": true
   },
   "outputs": [],
   "source": [
    "import numpy as np\n",
    "import pandas as pd\n",
    "import scipy as sp\n",
    "import xgboost as xgb\n",
    "from sklearn.metrics import log_loss\n",
    "from datetime import datetime"
   ]
  },
  {
   "cell_type": "markdown",
   "metadata": {},
   "source": [
    "### Load Data"
   ]
  },
  {
   "cell_type": "code",
   "execution_count": 2,
   "metadata": {
    "collapsed": true
   },
   "outputs": [],
   "source": [
    "path = './droped/'\n",
    "\n",
    "train_X = sp.sparse.load_npz(path + 'train_X.npz')\n",
    "test_X = sp.sparse.load_npz(path + 'test_X.npz')\n",
    "    \n",
    "train_y = np.load(path + 'train_y.npy')\n",
    "    \n",
    "train_VN = np.load(path + 'train_VN.npy')\n",
    "test_VN = np.load(path + 'test_VN.npy')"
   ]
  },
  {
   "cell_type": "markdown",
   "metadata": {},
   "source": [
    "### Single Model"
   ]
  },
  {
   "cell_type": "code",
   "execution_count": 3,
   "metadata": {},
   "outputs": [
    {
     "name": "stdout",
     "output_type": "stream",
     "text": [
      "0:16:59.916187 \t 0.398145999052\n"
     ]
    }
   ],
   "source": [
    "y = pd.get_dummies(train_y).values.argmax(1)\n",
    "N = train_X.shape[0]\n",
    "\n",
    "num_round = 550\n",
    "xgb_params = {'objective':'multi:softprob', 'num_class':38,\n",
    "              'eta':.2, 'max_depth':5, 'colsample_bytree':.4, 'subsample':.7, 'lambda': 5, \n",
    "              'silent':1}\n",
    "\n",
    "dtrain = xgb.DMatrix(train_X, label = y)\n",
    "dtest = xgb.DMatrix(test_X)\n",
    "\n",
    "t0 = datetime.now()\n",
    "bst = xgb.train(xgb_params, dtrain, num_round)\n",
    "test_pr = bst.predict(dtest)\n",
    "train_pr = bst.predict(dtrain)\n",
    "print(datetime.now() - t0, '\\t', log_loss(y, train_pr))\n",
    "\n",
    "col_list = ['TripType_' + str(lb) for lb in np.unique(train_y)]\n",
    "result = pd.DataFrame(test_pr, columns=col_list, index=test_VN)\n",
    "result.index.name = 'VisitNumber'\n",
    "result.to_csv('submission_single.csv', columns=result.columns)"
   ]
  },
  {
   "cell_type": "markdown",
   "metadata": {},
   "source": [
    "### Preparation for Ensembling"
   ]
  },
  {
   "cell_type": "code",
   "execution_count": 3,
   "metadata": {
    "collapsed": true
   },
   "outputs": [],
   "source": [
    "y = pd.get_dummies(train_y).values.argmax(1)\n",
    "N = train_X.shape[0]\n",
    "\n",
    "num_round = 550\n",
    "xgb_params = {'objective':'multi:softprob', 'num_class':38,\n",
    "              'eta':.2, 'max_depth':5, 'colsample_bytree':.4, 'subsample':.7, 'lambda': 5, \n",
    "              'silent':1}\n",
    "\n",
    "dtrain = xgb.DMatrix(train_X, label = y)\n",
    "dtest = xgb.DMatrix(test_X)\n",
    "\n",
    "nModels = 20"
   ]
  },
  {
   "cell_type": "code",
   "execution_count": 5,
   "metadata": {
    "collapsed": true
   },
   "outputs": [],
   "source": [
    "# np.save('D:/id' + str(0) + '.npy', np.array([0,0,0]))"
   ]
  },
  {
   "cell_type": "markdown",
   "metadata": {},
   "source": [
    "### Training and Ensembling"
   ]
  },
  {
   "cell_type": "code",
   "execution_count": 4,
   "metadata": {},
   "outputs": [
    {
     "name": "stdout",
     "output_type": "stream",
     "text": [
      "Training Time\tTrLoss\tTrLoss_Avg\n",
      "0:17:02.695142 \t 0.397155757107 \t 0.397155764435\n",
      "0:16:52.571981 \t 0.396869206683 \t 0.394937178513\n",
      "0:16:42.079456 \t 0.397561608956 \t 0.394430622093\n",
      "0:16:49.643178 \t 0.397116021226 \t 0.394044632143\n",
      "0:16:20.010673 \t 0.397409789408 \t 0.393858244713\n",
      "0:16:14.431630 \t 0.398201574036 \t 0.393894542623\n",
      "0:16:16.080893 \t 0.398036888655 \t 0.393887390626\n",
      "0:16:40.176910 \t 0.396813525298 \t 0.393746483766\n",
      "0:16:15.534205 \t 0.397062320532 \t 0.393650676189\n",
      "0:16:16.912702 \t 0.397948578945 \t 0.393629908058\n",
      "0:16:16.741121 \t 0.396708322783 \t 0.393533656977\n",
      "0:16:13.625159 \t 0.398331009799 \t 0.393588509271\n",
      "0:16:15.300443 \t 0.398784390808 \t 0.3936738411\n",
      "0:16:14.394209 \t 0.396831317169 \t 0.393610557325\n",
      "0:16:14.568555 \t 0.397745801634 \t 0.393605931857\n",
      "0:16:14.731823 \t 0.397490621855 \t 0.393593726708\n",
      "0:16:14.472152 \t 0.397065674535 \t 0.393556259505\n",
      "0:16:14.026529 \t 0.397628028085 \t 0.393541025436\n",
      "0:16:17.101162 \t 0.398347886939 \t 0.393553138011\n",
      "0:16:19.838642 \t 0.39864769092 \t 0.393589814841\n"
     ]
    }
   ],
   "source": [
    "sum_test_pr = np.zeros((N, 38))\n",
    "sum_train_pr = np.zeros((N, 38))\n",
    "\n",
    "print('Training Time\\tTrLoss\\tTrLoss_Avg')\n",
    "for j in range(nModels):\n",
    "    t0 = datetime.now()\n",
    "    xgb_params['seed'] = 10202*(j+20) + 50604\n",
    "    bst = xgb.train(xgb_params, dtrain, num_round)\n",
    "    test_pr = bst.predict(dtest)\n",
    "    train_pr = bst.predict(dtrain)\n",
    "    sum_test_pr += test_pr\n",
    "    sum_train_pr += train_pr\n",
    "    print(datetime.now() - t0, '\\t', log_loss(y, train_pr), '\\t', log_loss(y, sum_train_pr / (j+1)))\n",
    "    np.save('D:/id' + str(j) + '.npy', sum_test_pr)\n",
    "\n",
    "avg_test_pr = sum_test_pr / nModels\n",
    "col_list = ['TripType_' + str(lb) for lb in np.unique(train_y)]\n",
    "result = pd.DataFrame(avg_test_pr, columns=col_list, index=test_VN)\n",
    "result.index.name = 'VisitNumber'\n",
    "result.to_csv('submission_ensembled.csv', columns=result.columns)"
   ]
  },
  {
   "cell_type": "markdown",
   "metadata": {},
   "source": [
    "### Make 40-ensemble Submission\n",
    "**Another 20 xgboost models were trained on another PC, with different random seeds.\n",
    "Now ensemble all the 40 models, submitting the final result.**"
   ]
  },
  {
   "cell_type": "code",
   "execution_count": 7,
   "metadata": {
    "collapsed": true
   },
   "outputs": [],
   "source": [
    "another_20_ensemble = pd.read_csv('D:/Grain_JGY/ML_Lab/submission_ensembled.csv').set_index('VisitNumber')\n",
    "ensemble_40 = (another_20_ensemble.values + avg_test_pr) / 2"
   ]
  },
  {
   "cell_type": "code",
   "execution_count": 9,
   "metadata": {
    "collapsed": true
   },
   "outputs": [],
   "source": [
    "col_list = ['TripType_' + str(lb) for lb in np.unique(train_y)]\n",
    "result = pd.DataFrame(ensemble_40, columns=col_list, index=test_VN)\n",
    "result.index.name = 'VisitNumber'\n",
    "result.to_csv('submission_ensembled_40.csv', columns=result.columns)"
   ]
  },
  {
   "cell_type": "code",
   "execution_count": null,
   "metadata": {
    "collapsed": true
   },
   "outputs": [],
   "source": []
  }
 ],
 "metadata": {
  "kernelspec": {
   "display_name": "Python 3",
   "language": "python",
   "name": "python3"
  },
  "language_info": {
   "codemirror_mode": {
    "name": "ipython",
    "version": 3
   },
   "file_extension": ".py",
   "mimetype": "text/x-python",
   "name": "python",
   "nbconvert_exporter": "python",
   "pygments_lexer": "ipython3",
   "version": "3.6.3"
  }
 },
 "nbformat": 4,
 "nbformat_minor": 2
}

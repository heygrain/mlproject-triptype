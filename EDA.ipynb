{
 "cells": [
  {
   "cell_type": "markdown",
   "metadata": {},
   "source": [
    "## (I) Initialization and Read Data"
   ]
  },
  {
   "cell_type": "code",
   "execution_count": 1,
   "metadata": {
    "collapsed": true
   },
   "outputs": [],
   "source": [
    "import numpy as np\n",
    "import pandas as pd\n",
    "from sklearn import preprocessing\n",
    "import matplotlib.pyplot as plt\n",
    "import seaborn as sns\n",
    "%matplotlib inline\n",
    "plt.rcParams['figure.figsize'] = (8*1.5, 4.0*1.5) # set default size of plots"
   ]
  },
  {
   "cell_type": "code",
   "execution_count": 2,
   "metadata": {
    "collapsed": true
   },
   "outputs": [],
   "source": [
    "dataPath = './ClassifyTripType/'\n",
    "trainData = pd.read_csv(dataPath + 'train.csv', dtype={'Upc': object, 'FinelineNumber': object})\n",
    "testData = pd.read_csv(dataPath + 'test.csv', dtype={'Upc': object, 'FinelineNumber': object})"
   ]
  },
  {
   "cell_type": "markdown",
   "metadata": {},
   "source": [
    "## (II) A Glance at the Dataset"
   ]
  },
  {
   "cell_type": "markdown",
   "metadata": {},
   "source": [
    "### Group"
   ]
  },
  {
   "cell_type": "code",
   "execution_count": 3,
   "metadata": {},
   "outputs": [
    {
     "data": {
      "text/html": [
       "<div>\n",
       "<style>\n",
       "    .dataframe thead tr:only-child th {\n",
       "        text-align: right;\n",
       "    }\n",
       "\n",
       "    .dataframe thead th {\n",
       "        text-align: left;\n",
       "    }\n",
       "\n",
       "    .dataframe tbody tr th {\n",
       "        vertical-align: top;\n",
       "    }\n",
       "</style>\n",
       "<table border=\"1\" class=\"dataframe\">\n",
       "  <thead>\n",
       "    <tr style=\"text-align: right;\">\n",
       "      <th></th>\n",
       "      <th>TripType</th>\n",
       "      <th>VisitNumber</th>\n",
       "      <th>Weekday</th>\n",
       "      <th>Upc</th>\n",
       "      <th>ScanCount</th>\n",
       "      <th>DepartmentDescription</th>\n",
       "      <th>FinelineNumber</th>\n",
       "    </tr>\n",
       "  </thead>\n",
       "  <tbody>\n",
       "    <tr>\n",
       "      <th>3</th>\n",
       "      <td>26</td>\n",
       "      <td>8</td>\n",
       "      <td>Friday</td>\n",
       "      <td>2238403510</td>\n",
       "      <td>2</td>\n",
       "      <td>PAINT AND ACCESSORIES</td>\n",
       "      <td>3565</td>\n",
       "    </tr>\n",
       "    <tr>\n",
       "      <th>4</th>\n",
       "      <td>26</td>\n",
       "      <td>8</td>\n",
       "      <td>Friday</td>\n",
       "      <td>2006613744</td>\n",
       "      <td>2</td>\n",
       "      <td>PAINT AND ACCESSORIES</td>\n",
       "      <td>1017</td>\n",
       "    </tr>\n",
       "    <tr>\n",
       "      <th>5</th>\n",
       "      <td>26</td>\n",
       "      <td>8</td>\n",
       "      <td>Friday</td>\n",
       "      <td>2006618783</td>\n",
       "      <td>2</td>\n",
       "      <td>PAINT AND ACCESSORIES</td>\n",
       "      <td>1017</td>\n",
       "    </tr>\n",
       "    <tr>\n",
       "      <th>6</th>\n",
       "      <td>26</td>\n",
       "      <td>8</td>\n",
       "      <td>Friday</td>\n",
       "      <td>2006613743</td>\n",
       "      <td>1</td>\n",
       "      <td>PAINT AND ACCESSORIES</td>\n",
       "      <td>1017</td>\n",
       "    </tr>\n",
       "    <tr>\n",
       "      <th>7</th>\n",
       "      <td>26</td>\n",
       "      <td>8</td>\n",
       "      <td>Friday</td>\n",
       "      <td>7004802737</td>\n",
       "      <td>1</td>\n",
       "      <td>PAINT AND ACCESSORIES</td>\n",
       "      <td>2802</td>\n",
       "    </tr>\n",
       "    <tr>\n",
       "      <th>8</th>\n",
       "      <td>26</td>\n",
       "      <td>8</td>\n",
       "      <td>Friday</td>\n",
       "      <td>2238495318</td>\n",
       "      <td>1</td>\n",
       "      <td>PAINT AND ACCESSORIES</td>\n",
       "      <td>4501</td>\n",
       "    </tr>\n",
       "    <tr>\n",
       "      <th>9</th>\n",
       "      <td>26</td>\n",
       "      <td>8</td>\n",
       "      <td>Friday</td>\n",
       "      <td>2238400200</td>\n",
       "      <td>-1</td>\n",
       "      <td>PAINT AND ACCESSORIES</td>\n",
       "      <td>3565</td>\n",
       "    </tr>\n",
       "    <tr>\n",
       "      <th>10</th>\n",
       "      <td>26</td>\n",
       "      <td>8</td>\n",
       "      <td>Friday</td>\n",
       "      <td>5200010239</td>\n",
       "      <td>1</td>\n",
       "      <td>DSD GROCERY</td>\n",
       "      <td>4606</td>\n",
       "    </tr>\n",
       "    <tr>\n",
       "      <th>11</th>\n",
       "      <td>26</td>\n",
       "      <td>8</td>\n",
       "      <td>Friday</td>\n",
       "      <td>88679300501</td>\n",
       "      <td>2</td>\n",
       "      <td>PAINT AND ACCESSORIES</td>\n",
       "      <td>3504</td>\n",
       "    </tr>\n",
       "    <tr>\n",
       "      <th>12</th>\n",
       "      <td>26</td>\n",
       "      <td>8</td>\n",
       "      <td>Friday</td>\n",
       "      <td>22006000000</td>\n",
       "      <td>1</td>\n",
       "      <td>MEAT - FRESH &amp; FROZEN</td>\n",
       "      <td>6009</td>\n",
       "    </tr>\n",
       "    <tr>\n",
       "      <th>13</th>\n",
       "      <td>26</td>\n",
       "      <td>8</td>\n",
       "      <td>Friday</td>\n",
       "      <td>2236760452</td>\n",
       "      <td>1</td>\n",
       "      <td>PAINT AND ACCESSORIES</td>\n",
       "      <td>7</td>\n",
       "    </tr>\n",
       "    <tr>\n",
       "      <th>14</th>\n",
       "      <td>26</td>\n",
       "      <td>8</td>\n",
       "      <td>Friday</td>\n",
       "      <td>88679300501</td>\n",
       "      <td>-1</td>\n",
       "      <td>PAINT AND ACCESSORIES</td>\n",
       "      <td>3504</td>\n",
       "    </tr>\n",
       "    <tr>\n",
       "      <th>15</th>\n",
       "      <td>26</td>\n",
       "      <td>8</td>\n",
       "      <td>Friday</td>\n",
       "      <td>2238400200</td>\n",
       "      <td>2</td>\n",
       "      <td>PAINT AND ACCESSORIES</td>\n",
       "      <td>3565</td>\n",
       "    </tr>\n",
       "    <tr>\n",
       "      <th>16</th>\n",
       "      <td>26</td>\n",
       "      <td>8</td>\n",
       "      <td>Friday</td>\n",
       "      <td>3019294203</td>\n",
       "      <td>1</td>\n",
       "      <td>PAINT AND ACCESSORIES</td>\n",
       "      <td>2801</td>\n",
       "    </tr>\n",
       "    <tr>\n",
       "      <th>17</th>\n",
       "      <td>26</td>\n",
       "      <td>8</td>\n",
       "      <td>Friday</td>\n",
       "      <td>72450408840</td>\n",
       "      <td>1</td>\n",
       "      <td>PAINT AND ACCESSORIES</td>\n",
       "      <td>1028</td>\n",
       "    </tr>\n",
       "    <tr>\n",
       "      <th>18</th>\n",
       "      <td>26</td>\n",
       "      <td>8</td>\n",
       "      <td>Friday</td>\n",
       "      <td>25541500000</td>\n",
       "      <td>2</td>\n",
       "      <td>DAIRY</td>\n",
       "      <td>1305</td>\n",
       "    </tr>\n",
       "    <tr>\n",
       "      <th>19</th>\n",
       "      <td>26</td>\n",
       "      <td>8</td>\n",
       "      <td>Friday</td>\n",
       "      <td>2310010776</td>\n",
       "      <td>1</td>\n",
       "      <td>PETS AND SUPPLIES</td>\n",
       "      <td>3300</td>\n",
       "    </tr>\n",
       "    <tr>\n",
       "      <th>20</th>\n",
       "      <td>26</td>\n",
       "      <td>8</td>\n",
       "      <td>Friday</td>\n",
       "      <td>72450403700</td>\n",
       "      <td>2</td>\n",
       "      <td>PAINT AND ACCESSORIES</td>\n",
       "      <td>1018</td>\n",
       "    </tr>\n",
       "    <tr>\n",
       "      <th>21</th>\n",
       "      <td>26</td>\n",
       "      <td>8</td>\n",
       "      <td>Friday</td>\n",
       "      <td>7874204967</td>\n",
       "      <td>1</td>\n",
       "      <td>HOUSEHOLD CHEMICALS/SUPP</td>\n",
       "      <td>707</td>\n",
       "    </tr>\n",
       "    <tr>\n",
       "      <th>22</th>\n",
       "      <td>26</td>\n",
       "      <td>8</td>\n",
       "      <td>Friday</td>\n",
       "      <td>5114139038</td>\n",
       "      <td>1</td>\n",
       "      <td>PAINT AND ACCESSORIES</td>\n",
       "      <td>4415</td>\n",
       "    </tr>\n",
       "    <tr>\n",
       "      <th>23</th>\n",
       "      <td>26</td>\n",
       "      <td>8</td>\n",
       "      <td>Friday</td>\n",
       "      <td>5114197561</td>\n",
       "      <td>1</td>\n",
       "      <td>PAINT AND ACCESSORIES</td>\n",
       "      <td>4415</td>\n",
       "    </tr>\n",
       "    <tr>\n",
       "      <th>24</th>\n",
       "      <td>26</td>\n",
       "      <td>8</td>\n",
       "      <td>Friday</td>\n",
       "      <td>3270011053</td>\n",
       "      <td>3</td>\n",
       "      <td>PETS AND SUPPLIES</td>\n",
       "      <td>1001</td>\n",
       "    </tr>\n",
       "    <tr>\n",
       "      <th>25</th>\n",
       "      <td>26</td>\n",
       "      <td>8</td>\n",
       "      <td>Friday</td>\n",
       "      <td>NaN</td>\n",
       "      <td>1</td>\n",
       "      <td>NaN</td>\n",
       "      <td>NaN</td>\n",
       "    </tr>\n",
       "  </tbody>\n",
       "</table>\n",
       "</div>"
      ],
      "text/plain": [
       "    TripType  VisitNumber Weekday          Upc  ScanCount  \\\n",
       "3         26            8  Friday   2238403510          2   \n",
       "4         26            8  Friday   2006613744          2   \n",
       "5         26            8  Friday   2006618783          2   \n",
       "6         26            8  Friday   2006613743          1   \n",
       "7         26            8  Friday   7004802737          1   \n",
       "8         26            8  Friday   2238495318          1   \n",
       "9         26            8  Friday   2238400200         -1   \n",
       "10        26            8  Friday   5200010239          1   \n",
       "11        26            8  Friday  88679300501          2   \n",
       "12        26            8  Friday  22006000000          1   \n",
       "13        26            8  Friday   2236760452          1   \n",
       "14        26            8  Friday  88679300501         -1   \n",
       "15        26            8  Friday   2238400200          2   \n",
       "16        26            8  Friday   3019294203          1   \n",
       "17        26            8  Friday  72450408840          1   \n",
       "18        26            8  Friday  25541500000          2   \n",
       "19        26            8  Friday   2310010776          1   \n",
       "20        26            8  Friday  72450403700          2   \n",
       "21        26            8  Friday   7874204967          1   \n",
       "22        26            8  Friday   5114139038          1   \n",
       "23        26            8  Friday   5114197561          1   \n",
       "24        26            8  Friday   3270011053          3   \n",
       "25        26            8  Friday          NaN          1   \n",
       "\n",
       "       DepartmentDescription FinelineNumber  \n",
       "3      PAINT AND ACCESSORIES           3565  \n",
       "4      PAINT AND ACCESSORIES           1017  \n",
       "5      PAINT AND ACCESSORIES           1017  \n",
       "6      PAINT AND ACCESSORIES           1017  \n",
       "7      PAINT AND ACCESSORIES           2802  \n",
       "8      PAINT AND ACCESSORIES           4501  \n",
       "9      PAINT AND ACCESSORIES           3565  \n",
       "10               DSD GROCERY           4606  \n",
       "11     PAINT AND ACCESSORIES           3504  \n",
       "12     MEAT - FRESH & FROZEN           6009  \n",
       "13     PAINT AND ACCESSORIES              7  \n",
       "14     PAINT AND ACCESSORIES           3504  \n",
       "15     PAINT AND ACCESSORIES           3565  \n",
       "16     PAINT AND ACCESSORIES           2801  \n",
       "17     PAINT AND ACCESSORIES           1028  \n",
       "18                     DAIRY           1305  \n",
       "19         PETS AND SUPPLIES           3300  \n",
       "20     PAINT AND ACCESSORIES           1018  \n",
       "21  HOUSEHOLD CHEMICALS/SUPP            707  \n",
       "22     PAINT AND ACCESSORIES           4415  \n",
       "23     PAINT AND ACCESSORIES           4415  \n",
       "24         PETS AND SUPPLIES           1001  \n",
       "25                       NaN            NaN  "
      ]
     },
     "execution_count": 3,
     "metadata": {},
     "output_type": "execute_result"
    }
   ],
   "source": [
    "grouped = trainData.groupby('VisitNumber')\n",
    "grouped.get_group(8)"
   ]
  },
  {
   "cell_type": "markdown",
   "metadata": {},
   "source": [
    "### Comparison of training and test data in how many unique items of each column there are"
   ]
  },
  {
   "cell_type": "code",
   "execution_count": 4,
   "metadata": {},
   "outputs": [
    {
     "name": "stdout",
     "output_type": "stream",
     "text": [
      "[['TripType' '38']\n",
      " ['VisitNumber' '95674']\n",
      " ['Weekday' '7']\n",
      " ['Upc' '97715']\n",
      " ['DepartmentDescription' '69']\n",
      " ['FinelineNumber' '5196']]\n",
      "[['VisitNumber' '95674']\n",
      " ['Weekday' '7']\n",
      " ['Upc' '98148']\n",
      " ['DepartmentDescription' '68']\n",
      " ['FinelineNumber' '5204']]\n"
     ]
    }
   ],
   "source": [
    "trainUnique = np.array([[x, len(trainData[x].unique())] for x in ['TripType', 'VisitNumber', 'Weekday', 'Upc', 'DepartmentDescription', 'FinelineNumber']])\n",
    "testUnique = np.array([[x, len(testData[x].unique())] for x in ['VisitNumber', 'Weekday', 'Upc', 'DepartmentDescription', 'FinelineNumber']])\n",
    "print(trainUnique)\n",
    "print(testUnique)"
   ]
  },
  {
   "cell_type": "markdown",
   "metadata": {},
   "source": [
    "### Prior distribution of $\\mathtt{TripType}$ in training set"
   ]
  },
  {
   "cell_type": "code",
   "execution_count": 5,
   "metadata": {
    "scrolled": false
   },
   "outputs": [
    {
     "data": {
      "image/png": "[encoded data removed]",
      "text/plain": [
       "<matplotlib.figure.Figure at 0x23a29437b38>"
      ]
     },
     "metadata": {},
     "output_type": "display_data"
    }
   ],
   "source": [
    "trip_types = trainData[['VisitNumber', 'TripType']].drop_duplicates()\n",
    "trip_types_counts = trip_types['TripType'].value_counts().sort_index()\n",
    "\n",
    "x = range(1, len(trip_types_counts) + 1)\n",
    "y = trip_types_counts.values\n",
    "plt.bar(x, y / np.sum(y))\n",
    "plt.xticks(x,trip_types_counts.index)\n",
    "plt.title('Prior probablity of differen trip types')\n",
    "plt.xlabel('Trip type ID')\n",
    "plt.ylabel('Prior probability') \n",
    "plt.savefig('./experimental results/eda/prior.eps')\n",
    "plt.show()"
   ]
  },
  {
   "cell_type": "markdown",
   "metadata": {},
   "source": [
    "### The most frequently bought items ($\\mathtt{FinelineNumber}$) of each trip type"
   ]
  },
  {
   "cell_type": "code",
   "execution_count": 4,
   "metadata": {},
   "outputs": [
    {
     "data": {
      "text/plain": [
       "TripType\n",
       "3       277\n",
       "4      1110\n",
       "5      5501\n",
       "6      8012\n",
       "7      8014\n",
       "8       808\n",
       "9      1805\n",
       "12       31\n",
       "14     7949\n",
       "15     1805\n",
       "18     5330\n",
       "19     1264\n",
       "20     3004\n",
       "21     3550\n",
       "22     9640\n",
       "23      818\n",
       "24     8103\n",
       "25      324\n",
       "26     9803\n",
       "27     5501\n",
       "28     5805\n",
       "29     6110\n",
       "30      135\n",
       "31     9998\n",
       "32     3175\n",
       "33     8945\n",
       "34     1946\n",
       "35      808\n",
       "36      203\n",
       "37     5501\n",
       "38     1508\n",
       "39     5501\n",
       "40     5501\n",
       "41      135\n",
       "42     1805\n",
       "43        0\n",
       "44        0\n",
       "999     279\n",
       "dtype: object"
      ]
     },
     "execution_count": 4,
     "metadata": {},
     "output_type": "execute_result"
    }
   ],
   "source": [
    "pd.crosstab(index=trainData['FinelineNumber'], columns=trainData['TripType']).idxmax()"
   ]
  },
  {
   "cell_type": "markdown",
   "metadata": {},
   "source": [
    "### Intersection and union of $\\mathtt{FinlineNumber}$ and $\\mathtt{DepartmentDescription}$ in training and test set"
   ]
  },
  {
   "cell_type": "code",
   "execution_count": 115,
   "metadata": {},
   "outputs": [
    {
     "name": "stdout",
     "output_type": "stream",
     "text": [
      "5204 5196 5355\n"
     ]
    }
   ],
   "source": [
    "testFNSet = set(testData.FinelineNumber.unique())\n",
    "trainFNSet = set(trainData.FinelineNumber.unique())\n",
    "print(len(testFNSet), len(trainFNSet), len(testFNSet | trainFNSet))"
   ]
  },
  {
   "cell_type": "code",
   "execution_count": 126,
   "metadata": {},
   "outputs": [
    {
     "name": "stdout",
     "output_type": "stream",
     "text": [
      "68 69\n",
      "{'HEALTH AND BEAUTY AIDS'}\n",
      "{nan, 'SHEER HOSIERY', 'WIRELESS', 'LADIESWEAR', 'SPORTING GOODS', 'OTHER DEPARTMENTS', 'FROZEN FOODS', 'OPTICAL - FRAMES', 'BOOKS AND MAGAZINES', 'OFFICE SUPPLIES', 'COMM BREAD', 'GIRLS WEAR, 4-6X  AND 7-14', 'PRE PACKED DELI', 'SHOES', 'HOUSEHOLD PAPER GOODS', 'OPTICAL - LENSES', 'ACCESSORIES', 'IMPULSE MERCHANDISE', 'LIQUOR,WINE,BEER', 'SWIMWEAR/OUTERWEAR', 'SLEEPWEAR/FOUNDATIONS', 'HEALTH AND BEAUTY AIDS', 'INFANT CONSUMABLE HARDLINES', 'DSD GROCERY', 'SEASONAL', 'MENSWEAR', 'MENS WEAR', 'PLUS AND MATERNITY', 'BOYS WEAR', 'HOUSEHOLD CHEMICALS/SUPP', 'HARDWARE', 'BATH AND SHOWER', 'BRAS & SHAPEWEAR', 'MEDIA AND GAMING', 'TOYS', 'HOME DECOR', 'CAMERAS AND SUPPLIES', 'INFANT APPAREL', '1-HR PHOTO', 'BEDDING', 'CELEBRATION', 'GROCERY DRY GOODS', 'PERSONAL CARE', 'PAINT AND ACCESSORIES', 'DAIRY', 'COOK AND DINE', 'BAKERY', 'HORTICULTURE AND ACCESS', 'FURNITURE', 'CANDY, TOBACCO, COOKIES', 'JEWELRY AND SUNGLASSES', 'LAWN AND GARDEN', 'HOME MANAGEMENT', 'ELECTRONICS', 'PRODUCE', 'SERVICE DELI', 'MEAT - FRESH & FROZEN', 'AUTOMOTIVE', 'LARGE HOUSEHOLD GOODS', 'PETS AND SUPPLIES', 'PHARMACY RX', 'CONCEPT STORES', 'PHARMACY OTC', 'BEAUTY', 'PLAYERS AND ELECTRONICS', 'FABRICS AND CRAFTS', 'LADIES SOCKS', 'SEAFOOD', 'FINANCIAL SERVICES'}\n"
     ]
    }
   ],
   "source": [
    "testDDSet = set(testData.DepartmentDescription.unique())\n",
    "trainDDSet = set(trainData.DepartmentDescription.unique())\n",
    "print(len(testDDSet), len(trainDDSet))\n",
    "print(trainDDSet - testDDSet)\n",
    "print(trainDDSet)"
   ]
  },
  {
   "cell_type": "markdown",
   "metadata": {},
   "source": [
    "### Missing data\n",
    "- DepartmentDescription为NULL，则UPC和FLN一定为NULL\n",
    "- UPC和FLN为NULL时，DepartmentDescription非NULL即PHARMACY RX (反之Department为PHARMACY RX时，UPC和FLN不一定为NULL)\n",
    "- 因为处方药大部分没有UPC？"
   ]
  },
  {
   "cell_type": "code",
   "execution_count": 20,
   "metadata": {},
   "outputs": [
    {
     "data": {
      "text/plain": [
       "TripType                    0\n",
       "VisitNumber                 0\n",
       "Weekday                     0\n",
       "Upc                      4129\n",
       "ScanCount                   0\n",
       "DepartmentDescription    1361\n",
       "FinelineNumber           4129\n",
       "dtype: int64"
      ]
     },
     "execution_count": 20,
     "metadata": {},
     "output_type": "execute_result"
    }
   ],
   "source": [
    "trainData.isnull().sum()"
   ]
  },
  {
   "cell_type": "code",
   "execution_count": 23,
   "metadata": {},
   "outputs": [
    {
     "data": {
      "text/plain": [
       "TripType                 0\n",
       "VisitNumber              0\n",
       "Weekday                  0\n",
       "Upc                      0\n",
       "ScanCount                0\n",
       "DepartmentDescription    0\n",
       "FinelineNumber           0\n",
       "dtype: int64"
      ]
     },
     "execution_count": 23,
     "metadata": {},
     "output_type": "execute_result"
    }
   ],
   "source": [
    "trData = trainData.dropna()\n",
    "trData.isnull().sum()"
   ]
  },
  {
   "cell_type": "code",
   "execution_count": null,
   "metadata": {
    "collapsed": true
   },
   "outputs": [],
   "source": []
  }
 ],
 "metadata": {
  "kernelspec": {
   "display_name": "Python 3",
   "language": "python",
   "name": "python3"
  },
  "language_info": {
   "codemirror_mode": {
    "name": "ipython",
    "version": 3
   },
   "file_extension": ".py",
   "mimetype": "text/x-python",
   "name": "python",
   "nbconvert_exporter": "python",
   "pygments_lexer": "ipython3",
   "version": "3.6.3"
  }
 },
 "nbformat": 4,
 "nbformat_minor": 2
}
